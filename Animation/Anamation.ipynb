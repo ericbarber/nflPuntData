{
 "cells": [
  {
   "cell_type": "code",
   "execution_count": null,
   "metadata": {},
   "outputs": [],
   "source": [
    "library(data.table)\n",
    "library(gganimate)\n",
    "library(cowplot)"
   ]
  },
  {
   "cell_type": "code",
   "execution_count": null,
   "metadata": {},
   "outputs": [],
   "source": [
    "# create animation; based on example at https://github.com/nfl-football-ops/Big-Data-Bowl \n",
    "# see the NFL Data Preparation kernel for source code producing the csv file\n",
    "example.play = fread('../input/nfl-data-preparation/animate_585_733.csv')\n",
    "example.play[Team == 'ball', Number := \":\"]\n",
    "example.play[, Number := substr(Number, 1, 3)]\n",
    "example.play[Number == 55, involved := 1]\n",
    "example.play[Team == 'ball', involved := 2]\n",
    "example.play[, involved := as.character(involved)]\n",
    "setorder(example.play, -Team)\n",
    "\n",
    "\n",
    "# set field params\n",
    "ymin <- 0\n",
    "ymax <- 160/3\n",
    "xmin <- 0\n",
    "xmax <- 120\n",
    "\n",
    "hash.top <- 38.35\n",
    "hash.bottom <- 12\n",
    "hash.width <- 3.3\n",
    "df.hash <- expand.grid(y = c(0, 18, ymax-18, ymax), x = (10:110))\n",
    "\n",
    "\n",
    "# create base plot\n",
    "animate.play <- ggplot() +\n",
    "  \n",
    "  geom_rect(data=df.hash, xmin=xmin, xmax=xmax, ymin=ymin, ymax=ymax, fill=\"#88c999\", alpha=0.2) +\n",
    "  \n",
    "    annotate(\"segment\", x = c(xmin, xmin, xmax, xmax), \n",
    "           y = c(ymin, ymax, ymax, ymin), \n",
    "           xend = c(xmin, xmax, xmax, xmin), \n",
    "           yend = c(ymax, ymax, ymin, ymin), colour = \"darkgreen\") + \n",
    "  \n",
    "    annotate(\"segment\", y = ymin, \n",
    "           x = seq(max(10, xmin), min(xmax, 110), by = 5), \n",
    "           yend =  ymax, \n",
    "           xend = seq(max(10, xmin), min(xmax, 110), by = 5), color=\"white\") + \n",
    "  \n",
    "    annotate(\"text\", x = df.hash$x[df.hash$y < 55/2],\n",
    "           y = df.hash$y[df.hash$y < 55/2], label = \"_\", hjust = 0, vjust = -0.2, \n",
    "          angle=90, color=\"white\") +\n",
    " \n",
    "    annotate(\"text\", x = df.hash$x[df.hash$y > 55/2],\n",
    "           y = df.hash$y[df.hash$y > 55/2], label = \"_\", hjust = 1, vjust = -0.2, \n",
    "           angle=90, color=\"white\") +\n",
    "  \n",
    "    annotate(\"text\", y = rep(hash.bottom - 2, 11), x = seq(10, 110, by = 10),\n",
    "           label = c(\" G\", seq(10, 50, by = 10), rev(seq(10, 40, by = 10)), \"G \"),\n",
    "           angle = 0, size = 4, color=\"white\") +\n",
    "    \n",
    "    annotate(\"text\", y = rep((ymax - hash.bottom + 3), 11), x = seq(10, 110, by = 10), \n",
    "           label = c(\"G  \", seq(10, 50, by = 10), rev(seq(10, 40, by = 10)), \" G\"), \n",
    "           angle = 180, size = 4, color=\"white\") + \n",
    "  \n",
    "  geom_point(data = example.play, aes(x = x, y = y, \n",
    "                    colour = Team, group = GSISID, pch = involved, size = involved)) + \n",
    "  \n",
    "  scale_size_manual(values = c(7, 7, 4), guide = FALSE) + \n",
    "  scale_shape_manual(values = c(19, 17, 19), guide = FALSE) +\n",
    "  scale_colour_manual(values = c(\"#654321\", \"#002244\", \"#e31837\"), guide = FALSE) + \n",
    "\n",
    "  geom_text(data = example.play, aes(x = x, y = y, label = Number), colour = \"white\", \n",
    "            hjust = 0.4, size = 3.5) + \n",
    "\n",
    "  ylim(ymin, ymax) + \n",
    "  coord_fixed() +  \n",
    "  theme_nothing() + \n",
    "  transition_time(frame_id)  +\n",
    "  ease_aes('linear') + \n",
    "  NULL"
   ]
  },
  {
   "cell_type": "code",
   "execution_count": null,
   "metadata": {},
   "outputs": [],
   "source": [
    "# animate\n",
    "play.length.ex <- length(unique(example.play$frame_id))\n",
    "anim = animate(animate.play, fps = 10, nframe = play.length.ex)\n",
    "anim_save(\"animation_585_733.gif\", anim)"
   ]
  },
  {
   "cell_type": "code",
   "execution_count": null,
   "metadata": {},
   "outputs": [],
   "source": []
  }
 ],
 "metadata": {
  "kernelspec": {
   "display_name": "Python 3",
   "language": "python",
   "name": "python3"
  },
  "language_info": {
   "codemirror_mode": {
    "name": "ipython",
    "version": 3
   },
   "file_extension": ".py",
   "mimetype": "text/x-python",
   "name": "python",
   "nbconvert_exporter": "python",
   "pygments_lexer": "ipython3",
   "version": "3.7.0"
  }
 },
 "nbformat": 4,
 "nbformat_minor": 2
}
