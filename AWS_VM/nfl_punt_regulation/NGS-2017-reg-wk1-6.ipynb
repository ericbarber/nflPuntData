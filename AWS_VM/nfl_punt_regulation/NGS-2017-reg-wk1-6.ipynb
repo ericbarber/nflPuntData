{
 "cells": [
  {
   "cell_type": "code",
   "execution_count": 10,
   "metadata": {},
   "outputs": [],
   "source": [
    "import pandas as pd\n",
    "import numpy as np"
   ]
  },
  {
   "cell_type": "code",
   "execution_count": 2,
   "metadata": {},
   "outputs": [],
   "source": [
    "player_movement = pd.read_csv(\"NGS-2017-reg-wk1-6.csv\")"
   ]
  },
  {
   "cell_type": "code",
   "execution_count": 3,
   "metadata": {},
   "outputs": [
    {
     "data": {
      "text/html": [
       "<div>\n",
       "<style scoped>\n",
       "    .dataframe tbody tr th:only-of-type {\n",
       "        vertical-align: middle;\n",
       "    }\n",
       "\n",
       "    .dataframe tbody tr th {\n",
       "        vertical-align: top;\n",
       "    }\n",
       "\n",
       "    .dataframe thead th {\n",
       "        text-align: right;\n",
       "    }\n",
       "</style>\n",
       "<table border=\"1\" class=\"dataframe\">\n",
       "  <thead>\n",
       "    <tr style=\"text-align: right;\">\n",
       "      <th></th>\n",
       "      <th>Season_Year</th>\n",
       "      <th>GameKey</th>\n",
       "      <th>PlayID</th>\n",
       "      <th>GSISID</th>\n",
       "      <th>Time</th>\n",
       "      <th>x</th>\n",
       "      <th>y</th>\n",
       "      <th>dis</th>\n",
       "      <th>o</th>\n",
       "      <th>dir</th>\n",
       "      <th>Event</th>\n",
       "    </tr>\n",
       "  </thead>\n",
       "  <tbody>\n",
       "    <tr>\n",
       "      <th>0</th>\n",
       "      <td>2017</td>\n",
       "      <td>402</td>\n",
       "      <td>1314</td>\n",
       "      <td>30694.0</td>\n",
       "      <td>2017-09-10 17:55:16.000</td>\n",
       "      <td>49.119999</td>\n",
       "      <td>54.230000</td>\n",
       "      <td>0.15</td>\n",
       "      <td>30.980000</td>\n",
       "      <td>56.349998</td>\n",
       "      <td>NaN</td>\n",
       "    </tr>\n",
       "    <tr>\n",
       "      <th>1</th>\n",
       "      <td>2017</td>\n",
       "      <td>402</td>\n",
       "      <td>1314</td>\n",
       "      <td>32054.0</td>\n",
       "      <td>2017-09-10 17:55:17.100</td>\n",
       "      <td>50.790001</td>\n",
       "      <td>54.200001</td>\n",
       "      <td>0.10</td>\n",
       "      <td>286.160004</td>\n",
       "      <td>16.040001</td>\n",
       "      <td>NaN</td>\n",
       "    </tr>\n",
       "    <tr>\n",
       "      <th>2</th>\n",
       "      <td>2017</td>\n",
       "      <td>402</td>\n",
       "      <td>1314</td>\n",
       "      <td>26158.0</td>\n",
       "      <td>2017-09-10 17:55:17.100</td>\n",
       "      <td>49.459999</td>\n",
       "      <td>54.099998</td>\n",
       "      <td>0.16</td>\n",
       "      <td>299.640015</td>\n",
       "      <td>30.570000</td>\n",
       "      <td>NaN</td>\n",
       "    </tr>\n",
       "    <tr>\n",
       "      <th>3</th>\n",
       "      <td>2017</td>\n",
       "      <td>402</td>\n",
       "      <td>1314</td>\n",
       "      <td>26995.0</td>\n",
       "      <td>2017-09-10 17:55:17.200</td>\n",
       "      <td>52.750000</td>\n",
       "      <td>54.250000</td>\n",
       "      <td>0.05</td>\n",
       "      <td>217.860001</td>\n",
       "      <td>13.840000</td>\n",
       "      <td>NaN</td>\n",
       "    </tr>\n",
       "    <tr>\n",
       "      <th>4</th>\n",
       "      <td>2017</td>\n",
       "      <td>402</td>\n",
       "      <td>1314</td>\n",
       "      <td>32054.0</td>\n",
       "      <td>2017-09-10 17:55:17.200</td>\n",
       "      <td>50.830002</td>\n",
       "      <td>54.290001</td>\n",
       "      <td>0.09</td>\n",
       "      <td>288.679993</td>\n",
       "      <td>17.000000</td>\n",
       "      <td>NaN</td>\n",
       "    </tr>\n",
       "  </tbody>\n",
       "</table>\n",
       "</div>"
      ],
      "text/plain": [
       "   Season_Year  GameKey  PlayID   GSISID                     Time          x  \\\n",
       "0         2017      402    1314  30694.0  2017-09-10 17:55:16.000  49.119999   \n",
       "1         2017      402    1314  32054.0  2017-09-10 17:55:17.100  50.790001   \n",
       "2         2017      402    1314  26158.0  2017-09-10 17:55:17.100  49.459999   \n",
       "3         2017      402    1314  26995.0  2017-09-10 17:55:17.200  52.750000   \n",
       "4         2017      402    1314  32054.0  2017-09-10 17:55:17.200  50.830002   \n",
       "\n",
       "           y   dis           o        dir Event  \n",
       "0  54.230000  0.15   30.980000  56.349998   NaN  \n",
       "1  54.200001  0.10  286.160004  16.040001   NaN  \n",
       "2  54.099998  0.16  299.640015  30.570000   NaN  \n",
       "3  54.250000  0.05  217.860001  13.840000   NaN  \n",
       "4  54.290001  0.09  288.679993  17.000000   NaN  "
      ]
     },
     "execution_count": 3,
     "metadata": {},
     "output_type": "execute_result"
    }
   ],
   "source": [
    "player_movement.head()"
   ]
  },
  {
   "cell_type": "code",
   "execution_count": 6,
   "metadata": {},
   "outputs": [],
   "source": [
    "player_list = player_movement[\"GSISID\"]"
   ]
  },
  {
   "cell_type": "code",
   "execution_count": 17,
   "metadata": {},
   "outputs": [],
   "source": [
    "player_list = player_list.values"
   ]
  }
 ],
 "metadata": {
  "kernelspec": {
   "display_name": "Python 3",
   "language": "python",
   "name": "python3"
  },
  "language_info": {
   "codemirror_mode": {
    "name": "ipython",
    "version": 3
   },
   "file_extension": ".py",
   "mimetype": "text/x-python",
   "name": "python",
   "nbconvert_exporter": "python",
   "pygments_lexer": "ipython3",
   "version": "3.7.0"
  }
 },
 "nbformat": 4,
 "nbformat_minor": 2
}
